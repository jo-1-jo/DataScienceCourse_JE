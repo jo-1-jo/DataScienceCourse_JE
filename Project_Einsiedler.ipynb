{
 "cells": [
  {
   "cell_type": "markdown",
   "metadata": {},
   "source": [
    "# Project for the Course \"Introduction to Data Sciene\"\n",
    "## by Johanna Einsiedler\n",
    "August-September 2018, www.datasciencesociety.at\n",
    "\n",
    "## The Data\n",
    "\n",
    "### Data Source\n",
    "The data used in this project comes from the 2014 Global Entrepreneurship Monitor and can be freely downloaded from [here](https://www.gemconsortium.org/data/sets?id=aps). All the analysis have been conducted with the \"GEM 2014 APS Individual Level Data\".\n",
    "\n",
    "The Global Entrepreneurship Monitor is a yearly study with the aim of collecting data on entrepreneurial behaviour and attitudes of individuals as well as the national context and how it impacts entrepreneurship. The survey is administired to a minimum of 2,000 adults in each country. THE GEM is centrally coordinated but each participating country has a \"National Team\" which is led by an academic or research institution that is responsible for data collection (in Austria it is the \"FH Joanneum\").\n",
    "\n",
    "As the data has been gathered through a survey, all of it may be subject to distortions created through deliberate or non-deliberate wrong answers. This should be kept in mind when interpreting the graphics etc.\n",
    "\n",
    "### Data Structure\n",
    "\n",
    "The original Data Set consists of 201,841 observations from 70 different countries of 278 variables. \n",
    "It is only available as a SAV-file. For our use it has been transformed to a CSV-File prior to importing it into R.\n"
   ]
  },
  {
   "cell_type": "code",
   "execution_count": 9,
   "metadata": {},
   "outputs": [
    {
     "name": "stderr",
     "output_type": "stream",
     "text": [
      "Warning message:\n",
      "\"package 'ggplot2' was built under R version 3.4.4\"Warning message:\n",
      "\"package 'ggrepel' was built under R version 3.4.4\"Warning message:\n",
      "\"package 'reshape2' was built under R version 3.4.4\"Warning message:\n",
      "\"package 'plyr' was built under R version 3.4.4\"Warning message:\n",
      "\"package 'rgdal' was built under R version 3.4.4\"Loading required package: sp\n",
      "Warning message:\n",
      "\"package 'sp' was built under R version 3.4.4\"rgdal: version: 1.3-4, (SVN revision 766)\n",
      " Geospatial Data Abstraction Library extensions to R successfully loaded\n",
      " Loaded GDAL runtime: GDAL 2.2.3, released 2017/11/20\n",
      " Path to GDAL shared files: C:/Users/hicom/Documents/R/win-library/3.4/rgdal/gdal\n",
      " GDAL binary built with GEOS: TRUE \n",
      " Loaded PROJ.4 runtime: Rel. 4.9.3, 15 August 2016, [PJ_VERSION: 493]\n",
      " Path to PROJ.4 shared files: C:/Users/hicom/Documents/R/win-library/3.4/rgdal/proj\n",
      " Linking to sp version: 1.3-1 \n",
      "Warning message:\n",
      "\"package 'dplyr' was built under R version 3.4.4\"\n",
      "Attaching package: 'dplyr'\n",
      "\n",
      "The following objects are masked from 'package:plyr':\n",
      "\n",
      "    arrange, count, desc, failwith, id, mutate, rename, summarise,\n",
      "    summarize\n",
      "\n",
      "The following objects are masked from 'package:stats':\n",
      "\n",
      "    filter, lag\n",
      "\n",
      "The following objects are masked from 'package:base':\n",
      "\n",
      "    intersect, setdiff, setequal, union\n",
      "\n",
      "Warning message:\n",
      "\"package 'rworldmap' was built under R version 3.4.4\"### Welcome to rworldmap ###\n",
      "For a short introduction type : \t vignette('rworldmap')\n"
     ]
    }
   ],
   "source": [
    "# librarys needed for the project\n",
    "library(ggplot2)\n",
    "library(ggrepel)\n",
    "library(reshape2)\n",
    "library(plyr)\n",
    "library(rgdal)\n",
    "library(dplyr)\n",
    "library(grid)\n",
    "library(rworldmap)\n",
    "library(\"IRdisplay\")"
   ]
  },
  {
   "cell_type": "code",
   "execution_count": 1,
   "metadata": {},
   "outputs": [],
   "source": [
    "# import data from GEM\n",
    "df.gem <- read.csv(\"C:\\\\Users\\\\hicom\\\\Documents\\\\DataScienceCourse\\\\Project\\\\Data\\\\GEM.csv\", sep = \";\")"
   ]
  },
  {
   "cell_type": "code",
   "execution_count": 2,
   "metadata": {
    "scrolled": true
   },
   "outputs": [
    {
     "name": "stdout",
     "output_type": "stream",
     "text": [
      "'data.frame':\t201841 obs. of  278 variables:\n",
      " $ setid           : num  1.14e+09 1.14e+09 1.14e+09 1.14e+09 1.14e+09 ...\n",
      " $ country         : Factor w/ 70 levels \"Angola\",\"Argentina\",..: 68 68 68 68 68 68 68 68 68 68 ...\n",
      " $ ctryalp         : Factor w/ 70 levels \"AO\",\"AR\",\"AT\",..: 66 66 66 66 66 66 66 66 66 66 ...\n",
      " $ CAT_GCR1        : Factor w/ 6 levels \" \",\"Stage 1: factor driven\",..: 4 4 4 4 4 4 4 4 4 4 ...\n",
      " $ CAT_GCR2        : Factor w/ 4 levels \" \",\"Stage 1: factor driven (includes transition countries to phase 2)\",..: 4 4 4 4 4 4 4 4 4 4 ...\n",
      " $ yrsurv          : int  2014 2014 2014 2014 2014 2014 2014 2014 2014 2014 ...\n",
      " $ ID              : int  1000115 1000121 1000319 1000460 1000461 1000498 1000559 1000589 1000699 1000705 ...\n",
      " $ weight          : Factor w/ 14472 levels \" \",\"0,000112406\",..: 5789 10523 9955 6663 5866 1736 7657 4309 5636 4594 ...\n",
      " $ WEIGHT_L        : Factor w/ 14157 levels \" \",\"0,00010820337921300635\",..: 5455 10127 1 6263 5517 1614 7197 4082 5324 4332 ...\n",
      " $ WEIGHT_A        : Factor w/ 14519 levels \" \",\"0,00011240600000456964\",..: 5792 10558 9990 6664 5870 1731 7670 4303 5633 4592 ...\n",
      " $ GEMWORK         : Factor w/ 8 levels \"Full: full or part time (includes self-employment)\",..: 7 1 7 1 1 1 1 7 6 6 ...\n",
      " $ GEMWORK3        : Factor w/ 4 levels \"Missing, cannot classify\",..: 3 4 3 4 4 4 4 3 4 4 ...\n",
      " $ GEMOCCU         : Factor w/ 9 levels \"Full: full or part time\",..: 7 1 7 1 1 8 1 7 6 6 ...\n",
      " $ GEMHHINC        : Factor w/ 4 levels \"Lowest 33%tile\",..: 4 4 4 4 4 4 3 3 1 3 ...\n",
      " $ GEMEDUC         : Factor w/ 6 levels \"CAN NOT CODE\",..: 2 2 2 4 4 4 4 4 5 4 ...\n",
      " $ UNEDUC          : Factor w/ 8 levels \"(Upper) secondary education\",..: 2 2 2 5 2 2 5 2 1 2 ...\n",
      " $ knowent         : Factor w/ 4 levels \"Don't know\",\"No\",..: 2 2 2 2 2 4 2 4 2 2 ...\n",
      " $ opport          : Factor w/ 4 levels \"Don't know\",\"No\",..: 4 2 1 1 2 2 2 2 2 2 ...\n",
      " $ suskill         : Factor w/ 4 levels \"Don't know\",\"No\",..: 4 2 2 4 4 4 2 4 2 2 ...\n",
      " $ fearfail        : Factor w/ 5 levels \" \",\"Don't know\",..: 3 5 3 2 3 5 3 3 5 3 ...\n",
      " $ equalinc        : Factor w/ 5 levels \" \",\"Don't know\",..: 3 3 3 5 5 5 5 5 3 3 ...\n",
      " $ nbgoodc         : Factor w/ 5 levels \" \",\"Don't know\",..: 5 3 3 3 3 5 3 2 3 3 ...\n",
      " $ nbstatus        : Factor w/ 5 levels \" \",\"Don't know\",..: 5 3 5 5 3 3 3 5 5 5 ...\n",
      " $ nbmedia         : Factor w/ 5 levels \" \",\"Don't know\",..: 3 5 5 5 3 5 5 5 5 5 ...\n",
      " $ bstart          : Factor w/ 4 levels \"Don't know\",\"No\",..: 2 2 2 2 2 4 2 2 4 2 ...\n",
      " $ bjobst          : Factor w/ 4 levels \"Don't know\",\"No\",..: 2 2 2 2 2 2 2 2 2 2 ...\n",
      " $ suacts          : Factor w/ 5 levels \" \",\"Don't know\",..: 1 1 1 1 1 5 1 1 5 1 ...\n",
      " $ suprep          : Factor w/ 125 levels \" \",\"1\",\"10\",\"100\",..: 1 1 1 1 1 115 1 1 17 1 ...\n",
      " $ suown           : Factor w/ 6 levels \" \",\"All\",\"Don't Know\",..: 1 1 1 1 1 5 1 1 5 1 ...\n",
      " $ suowners        : Factor w/ 55 levels \" \",\"1\",\"10\",\"100\",..: 1 1 1 1 1 18 1 1 28 1 ...\n",
      " $ suwage          : Factor w/ 5 levels \" \",\"Don't know\",..: 1 1 1 1 1 5 1 1 3 1 ...\n",
      " $ suwageyr        : Factor w/ 53 levels \" \",\"1800\",\"1890\",..: 1 1 1 1 1 49 1 1 1 1 ...\n",
      " $ supay2          : Factor w/ 5 levels \" \",\"Don't know\",..: 1 1 1 1 1 1 1 1 1 1 ...\n",
      " $ subustype       : Factor w/ 14948 levels \"\",\"-\",\"- 3rd party contractor to title companies (companies that issue financing and home loans) - usually consumers, \"| __truncated__,..: 1 1 1 1 1 9541 1 1 10195 1 ...\n",
      " $ sunewcst        : Factor w/ 6 levels \" \",\"All\",\"Don't Know\",..: 1 1 1 1 1 4 1 1 6 1 ...\n",
      " $ sucompet        : Factor w/ 6 levels \" \",\"Don't Know\",..: 1 1 1 1 1 3 1 1 3 1 ...\n",
      " $ sunewtec        : Factor w/ 6 levels \" \",\"Between one to five years\",..: 1 1 1 1 1 5 1 1 5 1 ...\n",
      " $ suexport        : Factor w/ 10 levels \" \",\"10% or less\",..: 1 1 1 1 1 2 1 1 2 1 ...\n",
      " $ sunowjob        : Factor w/ 89 levels \" \",\"0\",\"1\",\"10\",..: 1 1 1 1 1 52 1 1 1 1 ...\n",
      " $ suyr5job        : Factor w/ 116 levels \" \",\"0\",\"1\",\"10\",..: 1 1 1 1 1 32 1 1 4 1 ...\n",
      " $ sureason        : Factor w/ 8 levels \" \",\"Combination of both of the above\",..: 1 1 1 1 1 8 1 1 8 1 ...\n",
      " $ sureason_oth    : Factor w/ 631 levels \"\",\"-1.\",\"-2.\",..: 1 1 1 1 1 1 1 1 1 1 ...\n",
      " $ suoptype        : Factor w/ 7 levels \" \",\"Don't Know\",..: 1 1 1 1 1 4 1 1 3 1 ...\n",
      " $ suoptype_oth    : Factor w/ 277 levels \"\",\" because i love it\",..: 1 1 1 1 1 1 1 1 1 1 ...\n",
      " $ ownmge          : Factor w/ 4 levels \"Don't know\",\"No\",..: 2 2 2 2 2 4 2 2 4 2 ...\n",
      " $ su_om           : Factor w/ 5 levels \" \",\"Different business\",..: 1 1 1 1 1 2 1 1 5 1 ...\n",
      " $ omown           : Factor w/ 7 levels \" \",\"All\",\"Does not apply\",..: 1 1 1 1 1 2 1 1 1 1 ...\n",
      " $ omowners        : Factor w/ 56 levels \" \",\"1\",\"10\",\"100\",..: 1 1 1 1 1 2 1 1 1 1 ...\n",
      " $ omwageyr        : Factor w/ 104 levels \" \",\"1800\",\"1870\",..: 1 1 1 1 1 82 1 1 1 1 ...\n",
      " $ ompay2          : Factor w/ 5 levels \" \",\"Don't know\",..: 1 1 1 1 1 1 1 1 1 1 ...\n",
      " $ ombustype       : Factor w/ 18328 levels \"\",\"-\",\"- Agricultural-Corn & Soy Bean as well as Beef - In a directory is would go under Agriculture/Farming - Primary\"| __truncated__,..: 1 1 1 1 1 7412 1 1 1 1 ...\n",
      " $ omnewcst        : Factor w/ 6 levels \" \",\"All\",\"Don't Know\",..: 1 1 1 1 1 6 1 1 1 1 ...\n",
      " $ omcompet        : Factor w/ 6 levels \" \",\"Don't Know\",..: 1 1 1 1 1 4 1 1 1 1 ...\n",
      " $ omnewtec        : Factor w/ 6 levels \" \",\"Between one to five years\",..: 1 1 1 1 1 2 1 1 1 1 ...\n",
      " $ omexport        : Factor w/ 10 levels \" \",\"10% or less\",..: 1 1 1 1 1 4 1 1 1 1 ...\n",
      " $ omnowjob        : Factor w/ 115 levels \" \",\"0\",\"0,5\",..: 1 1 1 1 1 10 1 1 1 1 ...\n",
      " $ omyr5job        : Factor w/ 101 levels \" \",\"0\",\"1\",\"1,5\",..: 1 1 1 1 1 91 1 1 1 1 ...\n",
      " $ omreason        : Factor w/ 8 levels \" \",\"Combination of both of the above\",..: 1 1 1 1 1 8 1 1 1 1 ...\n",
      " $ omreason_oth    : Factor w/ 1280 levels \"\",\"-1\",\" accidental/not intentional//\",..: 1 1 1 1 1 1 1 1 1 1 ...\n",
      " $ omoptype        : Factor w/ 7 levels \" \",\"Don't Know\",..: 1 1 1 1 1 4 1 1 1 1 ...\n",
      " $ omoptype_oth    : Factor w/ 417 levels \"\",\"-1\",\" hobby/turned into a bonus for making a profit/borderline business//\",..: 1 1 1 1 1 1 1 1 1 1 ...\n",
      " $ omrstart        : Factor w/ 5 levels \" \",\"Don't Know\",..: 1 1 1 1 1 5 1 1 1 1 ...\n",
      " $ futsup          : Factor w/ 4 levels \"Don't know\",\"No\",..: 2 2 2 2 2 2 2 2 2 2 ...\n",
      " $ discent         : Factor w/ 4 levels \"Don't know\",\"No\",..: 2 2 2 2 2 2 2 2 2 2 ...\n",
      " $ exbuscon        : Factor w/ 6 levels \" \",\"Business continued but activities changed\",..: 1 1 1 1 1 1 1 1 1 1 ...\n",
      " $ exreason        : Factor w/ 12 levels \" \",\"An incident\",..: 1 1 1 1 1 1 1 1 1 1 ...\n",
      " $ exreason_oth    : Factor w/ 828 levels \"\",\"-2\",\"-2.\",..: 1 1 1 1 1 1 1 1 1 1 ...\n",
      " $ busang          : Factor w/ 4 levels \"Don't know\",\"No\",..: 2 2 2 2 2 4 2 2 4 2 ...\n",
      " $ bafund          : Factor w/ 355 levels \" \",\"100\",\"1000\",..: 1 1 1 1 1 116 1 1 354 1 ...\n",
      " $ barel           : Factor w/ 9 levels \" \",\"A friend or neighbor\",..: 1 1 1 1 1 2 1 1 1 1 ...\n",
      " $ barel_oth       : Factor w/ 183 levels \"\",\"1\",\"A kickstarter\",..: 1 1 1 1 1 1 1 1 1 1 ...\n",
      " $ occufull        : Factor w/ 4 levels \"Don't Know\",\"No\",..: 2 4 2 4 4 2 4 2 2 2 ...\n",
      " $ occupart        : Factor w/ 4 levels \"Don't Know\",\"No\",..: 2 2 2 2 2 2 2 2 4 4 ...\n",
      " $ occuprbs        : Factor w/ 5 levels \" \",\"Don't Know\",..: 3 5 3 5 3 5 5 3 3 3 ...\n",
      " $ occugov         : Factor w/ 5 levels \" \",\"Don't Know\",..: 3 3 3 3 5 3 3 3 3 3 ...\n",
      " $ occufabs        : Factor w/ 4 levels \"Don't Know\",\"No\",..: 2 2 2 2 2 4 2 2 2 2 ...\n",
      " $ occuhome        : Factor w/ 5 levels \" \",\"Don't Know\",..: 2 3 3 3 3 3 3 3 3 3 ...\n",
      " $ occuself        : Factor w/ 4 levels \"Don't Know\",\"No\",..: 2 2 2 2 2 4 2 2 2 2 ...\n",
      " $ occuump         : Factor w/ 5 levels \" \",\"Don't Know\",..: 3 3 3 3 3 3 3 3 3 3 ...\n",
      " $ occuseek        : Factor w/ 5 levels \" \",\"Don't Know\",..: 3 3 3 3 3 3 3 3 5 3 ...\n",
      " $ occurd          : Factor w/ 5 levels \" \",\"Don't Know\",..: 5 3 5 3 3 3 3 5 3 3 ...\n",
      " $ occustu         : Factor w/ 5 levels \" \",\"Don't Know\",..: 5 3 3 3 3 3 3 3 5 3 ...\n",
      " $ occu_oth        : Factor w/ 2917 levels \"\",\"-1\",\"-2\",\"          2\",..: 1 1 1 1 1 1 1 1 1 1 ...\n",
      " $ occuselfmo      : Factor w/ 142 levels \" \",\"1\",\"10\",\"100\",..: 1 1 1 1 1 1 1 1 93 1 ...\n",
      " $ gender          : Factor w/ 4 levels \"Don't Know\",\"Female\",..: 3 3 3 3 2 3 2 2 3 2 ...\n",
      " $ age             : Factor w/ 87 levels \" \",\"100\",\"17\",..: 49 40 59 42 26 22 39 48 7 42 ...\n",
      " $ age7c           : Factor w/ 9 levels \" \",\"18-24\",\"25-34\",..: 1 1 1 1 1 1 1 1 1 1 ...\n",
      " $ age9c           : Factor w/ 9 levels \"-1\",\" \",\"0-17\",..: 8 7 9 8 6 6 7 8 4 8 ...\n",
      " $ hhsize          : Factor w/ 54 levels \" \",\"0\",\"1\",\"10\",..: 14 14 14 25 34 3 14 3 43 41 ...\n",
      " $ doublecount     : Factor w/ 5 levels \" \",\"Don't Know\",..: 3 5 5 5 5 5 5 5 5 5 ...\n",
      " $ dtsurv          : Factor w/ 272 levels \" \",\"01/18/2014\",..: 63 81 63 72 63 121 75 69 69 63 ...\n",
      " $ contact         : Factor w/ 6 levels \" \",\"5\",\"Face-to-face\",..: 4 4 4 4 4 4 4 4 4 4 ...\n",
      " $ callback        : int  1 4 1 2 1 5 3 2 2 1 ...\n",
      " $ intcontact      : int  NA NA NA NA NA NA NA NA NA NA ...\n",
      " $ eng_subustype   : Factor w/ 10084 levels \"\",\"'CAPITAL GRAFI' ( PRINTED TATTOOS)\",..: 1 1 1 1 1 1 1 1 1 1 ...\n",
      " $ eng_sureason_oth: Factor w/ 494 levels \"\",\" COMPANY WHERE I WORK DISINTEGRATED\",..: 1 1 1 1 1 1 1 1 1 1 ...\n",
      " $ eng_suoptype_oth: Factor w/ 221 levels \"\",\".\",\"???\",\"1 and 2\",..: 1 1 1 1 1 1 1 1 1 1 ...\n",
      " $ eng_ombustype   : Factor w/ 12315 levels \"\",\" a) barrel binding b) other companies c) wood factory\",..: 1 1 1 1 1 1 1 1 1 1 ...\n",
      " $ eng_omreason_oth: Factor w/ 1019 levels \"\",\" I CONTINUE WITH THE FAMILY BUSINESS\",..: 1 1 1 1 1 1 1 1 1 1 ...\n",
      "  [list output truncated]\n"
     ]
    }
   ],
   "source": [
    "# show structure of the data\n",
    "str(df.gem)"
   ]
  },
  {
   "cell_type": "markdown",
   "metadata": {},
   "source": [
    "## Analysis\n",
    "\n",
    "### Preparations\n",
    "\n",
    "\n",
    "For the following analysis the data set has been reduced to only 8 variables (metadata has been taken from the original SAV-file):\n",
    "* **_setid_**: unique ID for each respondent \n",
    "* **_country_**: Name of the country\n",
    "* **_UNEDUC_**: highest level of education attained according to [ISCED 1997](http://www.statistik.at/wcm/idc/idcplg?IdcService=GET_PDF_FILE&dDocName=104086) definitions\n",
    "* **_gender_**: Options were \"Refused\", \"Don't know\", \"Male\" and \"Female\".\n",
    "* **_bstart_**:  \"Are you, alone or with others, currently trying to start a new business, including any self-employment or selling any goods or services to others? Options were \"Don't know\", \"Refuse\", \"No\" and \"Yes\".\n",
    "* **_ownmge_**: \"Are you alon or with others currently the owner of a business you help manage, self-employed or selling any goods or services to others?\" Options were \"Don't know\", \"Refuse\", \"No\" and \"Yes\".\n",
    "* **_ytransc_**: \"Have you ever taken part in training on starting a business at primary or secondary school?\" Options were \"Don't know\", \"Refuse\", \"No\" and \"Yes\".\n",
    "* **_ytranlf_**: \"Have you ever taken part in training on starting a business after you completed your education in school?\" Options were \"Don't know\", \"Refuse\", \"No\" and \"Yes\".\n",
    "* **_suskill_**: Do you have the knowledge, skill & experience required to start a business?\" Options were \"Don't know\", \"Refuse\", \"No\" and \"Yes\".\n"
   ]
  },
  {
   "cell_type": "code",
   "execution_count": 3,
   "metadata": {},
   "outputs": [],
   "source": [
    "# subset data to interesting variables\n",
    "df.variables <- c('setid', 'country', 'UNEDUC', 'suskill', 'bstart', 'ownmge', 'gender',  'ytransc', 'ytranlf')\n",
    "df.gem.2 <- df.gem[, df.variables]"
   ]
  },
  {
   "cell_type": "markdown",
   "metadata": {},
   "source": [
    "### Distribution of Founders and Gender in the Sample\n",
    "\n",
    "The aim ist to get an overview of the share of founders & business owners in the sample as well as the gender balance among them. In a first step a Contingency Table for the Variables **_bstart_** and **_ownmge_** is created - this should give a ruff overview of the total numbers and overlaps."
   ]
  },
  {
   "cell_type": "code",
   "execution_count": 4,
   "metadata": {},
   "outputs": [
    {
     "data": {
      "text/plain": [
       "            \n",
       "             Don't know     No Refused    Yes\n",
       "  Don't know         72    447      42     87\n",
       "  No                194 146318     229  24665\n",
       "  Refused             5    247     348     22\n",
       "  Yes               126  16146     100  12793"
      ]
     },
     "metadata": {},
     "output_type": "display_data"
    }
   ],
   "source": [
    "tab1 <- table (df.gem.2$bstart, df.gem.2$ownmge)\n",
    "tab1"
   ]
  },
  {
   "cell_type": "markdown",
   "metadata": {},
   "source": [
    "Then we condense **_bstart_** and **_ownmge_** into a single variable named **_business_** by encoding \"Yes\" as 1, \"No\" as 0 and \"Don't know\" & \"Refused\" as -1."
   ]
  },
  {
   "cell_type": "code",
   "execution_count": 5,
   "metadata": {},
   "outputs": [],
   "source": [
    "# add a column that contains \n",
    "# '1' if the person is either starting a business right now or is currently owning one\n",
    "# '2' if the person is starting a business right now and is currently owning one\n",
    "# '-1' if the person has answered at least one of these questions with \"Don't know\" or \"Refused\"\n",
    "\n",
    "df.gem.2$business <- ifelse (df.gem.2$bstart == 'Yes', 1, 0)\n",
    "df.gem.2$business <- ifelse(df.gem.2$ownmge == 'Yes', df.gem.2$business+1, df.gem.2$business )\n",
    "df.gem.2$business <- ifelse(df.gem.2$ownmge == \"Don't know\" | df.gem.2$ownmge == \"Refused\" |df.gem.2$bstart == \"Don't know\" | df.gem.2$bstart == \"Refused\", -1, df.gem.2$business )"
   ]
  },
  {
   "cell_type": "markdown",
   "metadata": {},
   "source": [
    "In the next step we create another new variable **_overview_** to show the number of male and female (non) founders & business owners respectively. \n"
   ]
  },
  {
   "cell_type": "code",
   "execution_count": 6,
   "metadata": {},
   "outputs": [],
   "source": [
    "# create a variable that contains\n",
    "# '1' if the person is male and is neither a business owner nor currently trying to found\n",
    "# '2' if the person is female and is neither a business owner nor currently trying to found\n",
    "# '3' if the person is male and is a business owner, a current founder or both\n",
    "# '4' if the person is femal and is a business owner, a current founder or both\n",
    "# 'NA' if the person has answered one of the questions (bstart, ownmge, gender) with \"Don't know\" or \"Refused\"\n",
    "\n",
    "df.gem.2$overview <-ifelse(df.gem.2$gender == \"Female\" & df.gem.2$business > 0, 3,\n",
    "                           ifelse(df.gem.2$gender == \"Male\" & df.gem.2$business > 0, 4,\n",
    "                           ifelse(df.gem.2$gender == \"Female\" & df.gem.2$business == 0, 2,\n",
    "                           ifelse(df.gem.2$gender == \"Male\" & df.gem.2$business == 0, 1, \"NA\"))))"
   ]
  },
  {
   "cell_type": "markdown",
   "metadata": {},
   "source": [
    "Create a contingency table for **_overview_** and **_country_** to see the distribution for each country. Delete the \"NA\" cases (1922 observations).\n",
    "\n",
    "_Note: If the data was representative in the first step, this might not be the case anymore after this transformation unless we assume that there is no correlation between gender or business ownership with responding to either question with \"Don't know\" or \"Refused\"._"
   ]
  },
  {
   "cell_type": "code",
   "execution_count": 7,
   "metadata": {},
   "outputs": [
    {
     "data": {
      "text/plain": [
       "                        \n",
       "                                  1          2          3          4\n",
       "  Angola                 0.24107143 0.25446429 0.25111607 0.25334821\n",
       "  Argentina              0.31129808 0.41826923 0.11458333 0.15584936\n",
       "  Australia              0.33317972 0.41981567 0.11474654 0.13225806\n",
       "  Austria                0.35013562 0.41636528 0.09742315 0.13607595\n",
       "  Barbados               0.34097859 0.36697248 0.14016310 0.15188583\n",
       "  Belgium                0.41533066 0.43687375 0.05410822 0.09368737\n",
       "  Belize                 0.37700146 0.43425522 0.08976225 0.09898108\n",
       "  Bolivia                0.21723869 0.27067083 0.24375975 0.26833073\n",
       "  Bosnia and Herzegovina 0.36051716 0.43411238 0.06961711 0.13575336\n",
       "  Botswana               0.18744186 0.25534884 0.28744186 0.26976744\n",
       "  Brazil                 0.28607164 0.32609566 0.19111467 0.19671803\n",
       "  Burkina Faso           0.28707291 0.19513913 0.15709757 0.36069038\n",
       "  Cameroon               0.15216334 0.21779290 0.29995139 0.33009237\n",
       "  Canada                 0.32585644 0.41190865 0.10522023 0.15701468\n",
       "  Chile                  0.27610134 0.35016944 0.17201872 0.20171051\n",
       "  China                  0.31056593 0.33677168 0.15639810 0.19626429\n",
       "  Colombia               0.27672273 0.36136734 0.16304938 0.19886055\n",
       "  Costa Rica             0.36142231 0.40964442 0.11008281 0.11885046\n",
       "  Croatia                0.33350101 0.44315895 0.09004024 0.13329980\n",
       "  Denmark                0.41288068 0.47229156 0.03694458 0.07788318\n",
       "  Ecuador                0.19646365 0.23821218 0.26571709 0.29960707\n",
       "  El Salvador            0.30139027 0.36295929 0.18470705 0.15094340\n",
       "  Estonia                0.36753972 0.44911979 0.07513954 0.10820094\n",
       "  Finland                0.40240240 0.45245245 0.05255255 0.09259259\n",
       "  France                 0.42521261 0.48624312 0.03501751 0.05352676\n",
       "  Georgia                0.33764940 0.47111554 0.07868526 0.11254980\n",
       "  Germany                0.40381041 0.42727695 0.06040892 0.10850372\n",
       "  Greece                 0.34621174 0.42599097 0.07325640 0.15454089\n",
       "  Guatemala              0.27862772 0.37088549 0.16318962 0.18729717\n",
       "  Hungary                0.35600000 0.43600000 0.06950000 0.13850000\n",
       "  India                  0.37853277 0.46843055 0.05712568 0.09591100\n",
       "  Indonesia              0.28960261 0.30430049 0.20522591 0.20087099\n",
       "  Iran                   0.30489260 0.40841289 0.07428401 0.21241050\n",
       "  Ireland                0.34050000 0.47800000 0.06800000 0.11350000\n",
       "  Italy                  0.41424273 0.46088265 0.04914744 0.07572718\n",
       "  Jamaica                0.26507395 0.31968146 0.18923019 0.22601441\n",
       "  Japan                  0.36445332 0.49625562 0.05441837 0.08487269\n",
       "  Kazakhstan             0.32073643 0.38711240 0.14098837 0.15116279\n",
       "  Kosovo                 0.43155894 0.44296578 0.04942966 0.07604563\n",
       "  Lithuania              0.29015808 0.46047935 0.10096889 0.14839368\n",
       "  Luxembourg             0.38412543 0.46937776 0.06369427 0.08280255\n",
       "  Malaysia               0.42350000 0.41000000 0.07000000 0.09650000\n",
       "  Mexico                 0.35831382 0.38602654 0.12607338 0.12958626\n",
       "  Netherlands            0.38342199 0.43439716 0.07136525 0.11081560\n",
       "  Norway                 0.42371186 0.45972986 0.03951976 0.07703852\n",
       "  Panama                 0.35996006 0.37393909 0.12680979 0.13929106\n",
       "  Peru                   0.21195097 0.26098059 0.25178754 0.27528090\n",
       "  Philippines            0.26183283 0.28851964 0.25679758 0.19284995\n",
       "  Poland                 0.33266332 0.43266332 0.09547739 0.13919598\n",
       "  Portugal               0.33416459 0.42344140 0.10024938 0.14214464\n",
       "  Puerto Rico            0.39134809 0.45422535 0.07545272 0.07897384\n",
       "  Qatar                  0.36419317 0.29163722 0.10270907 0.24146054\n",
       "  Romania                0.30862330 0.42410489 0.09783157 0.16944024\n",
       "  Russia                 0.40772317 0.49097292 0.04613842 0.05516550\n",
       "  Singapore              0.38527054 0.42585170 0.07364729 0.11523046\n",
       "  Slovakia               0.32361809 0.39396985 0.10603015 0.17638191\n",
       "  Slovenia               0.38253012 0.42921687 0.06827309 0.11997992\n",
       "  South Africa           0.41764392 0.43736674 0.06609808 0.07889126\n",
       "  Spain                  0.42086936 0.43607909 0.06268012 0.08037144\n",
       "  Suriname               0.37956542 0.48959778 0.05131761 0.07951919\n",
       "  Sweden                 0.38389968 0.45590615 0.05744337 0.10275081\n",
       "  Switzerland            0.40399002 0.43973400 0.07107232 0.08520366\n",
       "  Taiwan                 0.35450000 0.40550000 0.09500000 0.14500000\n",
       "  Thailand               0.21303502 0.25048638 0.24173152 0.29474708\n",
       "  Trinidad and Tobago    0.33466533 0.38311688 0.13186813 0.15034965\n",
       "  Uganda                 0.12263258 0.13636364 0.36174242 0.37926136\n",
       "  United Kingdom         0.33199800 0.48572859 0.07260891 0.10966450\n",
       "  United States          0.35502776 0.37816163 0.11196792 0.15484269\n",
       "  Uruguay                0.32066033 0.44422211 0.10205103 0.13306653\n",
       "  Vietnam                0.31750000 0.30900000 0.19850000 0.17500000"
      ]
     },
     "metadata": {},
     "output_type": "display_data"
    }
   ],
   "source": [
    "# calculate contingency table for female/male, founder/not founder & the countries (sort out NA - 3 cases)\n",
    "\n",
    "tab2 <- table(df.gem.2$country, df.gem.2$overview)\n",
    "tab2 <- prop.table(tab2[,-5], margin = 1)\n",
    "tab2"
   ]
  },
  {
   "cell_type": "markdown",
   "metadata": {},
   "source": [
    "Turn the table into a dataframe and rename variables & factors"
   ]
  },
  {
   "cell_type": "code",
   "execution_count": 11,
   "metadata": {},
   "outputs": [],
   "source": [
    "# turn into dataframe and rename variables\n",
    "\n",
    "df.gem.overview <- as.data.frame(tab2)\n",
    "colnames(df.gem.overview) <- c('country', 'factors', 'percent')\n",
    "df.gem.overview$factors <-revalue(df.gem.overview$factors, c('1' = 'Male Non-Founders', '2' = 'Female Non-Founders', '3' = 'Female Founders', '4' = 'Male Founders'))\n",
    "\n"
   ]
  },
  {
   "cell_type": "markdown",
   "metadata": {},
   "source": [
    "Create a barplot that shows for each country the gender distribution among founders as well as non-founder in the sample."
   ]
  },
  {
   "cell_type": "code",
   "execution_count": 47,
   "metadata": {},
   "outputs": [
    {
     "data": {},
     "metadata": {},
     "output_type": "display_data"
    },
    {
     "data": {
      "image/png": "[encoded data removed]",
      "text/plain": [
       "plot without title"
      ]
     },
     "metadata": {},
     "output_type": "display_data"
    }
   ],
   "source": [
    "# create a barplot showing the distribution of gender among founders and the rest of the population\n",
    "\n",
    "ggplot(data = df.gem.overview, aes(x=country, y=percent*100, fill=factors)) +\n",
    "  geom_bar(stat=\"identity\")+ \n",
    "  theme_minimal()+\n",
    "  scale_fill_manual(values=c('#C6E1F7','#F5D3D3', '#C03131', '#3D88C1')) +\n",
    "  theme(axis.text.x = element_text(angle = 90, hjust = 1, vjust = 0.5, size = 10))+\n",
    "  labs(title=\"Gender Distribution among Founders & Non-Founders\", \n",
    "         x=\"Countries\", y = \"Length\", fill = '')"
   ]
  },
  {
   "cell_type": "markdown",
   "metadata": {},
   "source": [
    "### Highest Education Level Attained and Self-Assessed Founding Skills\n",
    "\n",
    "Here the aim is to take a look at the educational level of the survey participants as well as their self-assessement whether they possess the necessary knowledge, skilss and experience to start a business.\n",
    "\n",
    "Therefore the data is subsetted, so that only founders are contained in the sample (53,604 observations)."
   ]
  },
  {
   "cell_type": "code",
   "execution_count": 18,
   "metadata": {},
   "outputs": [
    {
     "data": {
      "text/html": [
       "53604"
      ],
      "text/latex": [
       "53604"
      ],
      "text/markdown": [
       "53604"
      ],
      "text/plain": [
       "[1] 53604"
      ]
     },
     "metadata": {},
     "output_type": "display_data"
    }
   ],
   "source": [
    "# create a subset containing only (future) founders\n",
    "df.gem.2.founders <- subset(x = df.gem.2, subset = business%in%c(1,2))\n",
    "\n",
    "# number of business owners and current founders in the survey\n",
    "num.bus <- nrow(df.gem.2.founders)\n",
    "num.bus"
   ]
  },
  {
   "cell_type": "markdown",
   "metadata": {},
   "source": [
    "Next we create a contingency table showing the numbers for **_suskill_** and **_UNEDUC_** and save it as a data frame which is then subsetted to contain only respondents who answered \"yes\" or \"no\" to the skills-question.\n",
    "\n",
    "_Note: Again this can lead to bias._"
   ]
  },
  {
   "cell_type": "code",
   "execution_count": 19,
   "metadata": {},
   "outputs": [],
   "source": [
    "# create a data frame out of a contigency table of \"suskill\" and \"UNEDUC\"\n",
    "df.gem.educ <- as.data.frame(table(df.gem.2.founders$suskill, df.gem.2.founders$UNEDUC)) \n",
    "colnames(df.gem.educ) <- c('suskill', 'UNEDUC', 'frequencies')\n",
    "\n",
    "# only include people who answered \"No\" or \"Yes\"\n",
    "df.gem.educ <- subset(x = df.gem.educ, subset = suskill%in%c('No', 'Yes') )"
   ]
  },
  {
   "cell_type": "markdown",
   "metadata": {},
   "source": [
    "Then we calculate the percentages of the yes and no answers and save them as a string to use them as a label for the plot later on."
   ]
  },
  {
   "cell_type": "code",
   "execution_count": 20,
   "metadata": {},
   "outputs": [],
   "source": [
    "# calculate sum of people who answered \"Yes\" or \"No\" to the Question \"Do you have the knowledge, skill & experience to start a business?\" respectively\n",
    "sum.yes <- sum(ifelse(df.gem.educ$suskill == \"Yes\", df.gem.educ$frequencies, 0))\n",
    "sum.no <- sum(ifelse(df.gem.educ$suskill == \"No\", df.gem.educ$frequencies, 0))\n",
    "\n",
    "# calculate percent values and save as string for labelling\n",
    "df.gem.educ$percent <- ifelse(df.gem.educ$suskill == \"Yes\", df.gem.educ$frequencies/sum.yes, df.gem.educ$frequencies/sum.no)\n",
    "df.gem.educ$percent1 <- paste(format(df.gem.educ$percent*100, digits = 2),\"%\", sep = \"\")"
   ]
  },
  {
   "cell_type": "markdown",
   "metadata": {},
   "source": [
    "As the UNEDUC variable is not ordered according to the years of schooling necessary to attain the respective education level, we change the order and sort the data frame accordingly."
   ]
  },
  {
   "cell_type": "code",
   "execution_count": 21,
   "metadata": {},
   "outputs": [
    {
     "data": {
      "text/html": [
       "<table>\n",
       "<thead><tr><th></th><th scope=col>suskill</th><th scope=col>UNEDUC</th><th scope=col>frequencies</th><th scope=col>percent</th><th scope=col>percent1</th></tr></thead>\n",
       "<tbody>\n",
       "\t<tr><th scope=row>14</th><td>No                                                 </td><td>Missing                                            </td><td>  102                                              </td><td>0.009303174                                        </td><td> 0.93%                                             </td></tr>\n",
       "\t<tr><th scope=row>16</th><td>Yes                                                </td><td>Missing                                            </td><td>  360                                              </td><td>0.008624614                                        </td><td> 0.86%                                             </td></tr>\n",
       "\t<tr><th scope=row>22</th><td>No                                                 </td><td>Pre-primary education                              </td><td>  667                                              </td><td>0.060835462                                        </td><td> 6.08%                                             </td></tr>\n",
       "\t<tr><th scope=row>24</th><td>Yes                                                </td><td>Pre-primary education                              </td><td> 2226                                              </td><td>0.053328861                                        </td><td> 5.33%                                             </td></tr>\n",
       "\t<tr><th scope=row>26</th><td>No                                                 </td><td>Primary education or first stage of basic education</td><td> 1634                                              </td><td>0.149033200                                        </td><td>14.90%                                             </td></tr>\n",
       "\t<tr><th scope=row>28</th><td>Yes                                                </td><td>Primary education or first stage of basic education</td><td> 4247                                              </td><td>0.101746484                                        </td><td>10.17%                                             </td></tr>\n",
       "\t<tr><th scope=row>10</th><td>No                                                 </td><td>Lower  secondary or second stage of basic education</td><td> 1963                                              </td><td>0.179040496                                        </td><td>17.90%                                             </td></tr>\n",
       "\t<tr><th scope=row>12</th><td>Yes                                                </td><td>Lower  secondary or second stage of basic education</td><td> 6203                                              </td><td>0.148606885                                        </td><td>14.86%                                             </td></tr>\n",
       "\t<tr><th scope=row>2</th><td>No                                                 </td><td>(Upper) secondary education                        </td><td> 3486                                              </td><td>0.317949653                                        </td><td>31.79%                                             </td></tr>\n",
       "\t<tr><th scope=row>4</th><td>Yes                                                </td><td>(Upper) secondary education                        </td><td>13639                                              </td><td>0.326753073                                        </td><td>32.68%                                             </td></tr>\n",
       "\t<tr><th scope=row>18</th><td>No                                                 </td><td>Post-secondary non-tertiary education              </td><td> 1184                                              </td><td>0.107989785                                        </td><td>10.80%                                             </td></tr>\n",
       "\t<tr><th scope=row>20</th><td>Yes                                                </td><td>Post-secondary non-tertiary education              </td><td> 4932                                              </td><td>0.118157208                                        </td><td>11.82%                                             </td></tr>\n",
       "\t<tr><th scope=row>6</th><td>No                                                 </td><td>First stage of tertiary education                  </td><td> 1748                                              </td><td>0.159430865                                        </td><td>15.94%                                             </td></tr>\n",
       "\t<tr><th scope=row>8</th><td>Yes                                                </td><td>First stage of tertiary education                  </td><td> 9412                                              </td><td>0.225485733                                        </td><td>22.55%                                             </td></tr>\n",
       "\t<tr><th scope=row>30</th><td>No                                                 </td><td>Second stage of tertiary education                 </td><td>  180                                              </td><td>0.016417366                                        </td><td> 1.64%                                             </td></tr>\n",
       "\t<tr><th scope=row>32</th><td>Yes                                                </td><td>Second stage of tertiary education                 </td><td>  722                                              </td><td>0.017297142                                        </td><td> 1.73%                                             </td></tr>\n",
       "</tbody>\n",
       "</table>\n"
      ],
      "text/latex": [
       "\\begin{tabular}{r|lllll}\n",
       "  & suskill & UNEDUC & frequencies & percent & percent1\\\\\n",
       "\\hline\n",
       "\t14 & No                                                  & Missing                                             &   102                                               & 0.009303174                                         &  0.93\\%                                           \\\\\n",
       "\t16 & Yes                                                 & Missing                                             &   360                                               & 0.008624614                                         &  0.86\\%                                           \\\\\n",
       "\t22 & No                                                  & Pre-primary education                               &   667                                               & 0.060835462                                         &  6.08\\%                                           \\\\\n",
       "\t24 & Yes                                                 & Pre-primary education                               &  2226                                               & 0.053328861                                         &  5.33\\%                                           \\\\\n",
       "\t26 & No                                                  & Primary education or first stage of basic education &  1634                                               & 0.149033200                                         & 14.90\\%                                           \\\\\n",
       "\t28 & Yes                                                 & Primary education or first stage of basic education &  4247                                               & 0.101746484                                         & 10.17\\%                                           \\\\\n",
       "\t10 & No                                                  & Lower  secondary or second stage of basic education &  1963                                               & 0.179040496                                         & 17.90\\%                                           \\\\\n",
       "\t12 & Yes                                                 & Lower  secondary or second stage of basic education &  6203                                               & 0.148606885                                         & 14.86\\%                                           \\\\\n",
       "\t2 & No                                                  & (Upper) secondary education                         &  3486                                               & 0.317949653                                         & 31.79\\%                                           \\\\\n",
       "\t4 & Yes                                                 & (Upper) secondary education                         & 13639                                               & 0.326753073                                         & 32.68\\%                                           \\\\\n",
       "\t18 & No                                                  & Post-secondary non-tertiary education               &  1184                                               & 0.107989785                                         & 10.80\\%                                           \\\\\n",
       "\t20 & Yes                                                 & Post-secondary non-tertiary education               &  4932                                               & 0.118157208                                         & 11.82\\%                                           \\\\\n",
       "\t6 & No                                                  & First stage of tertiary education                   &  1748                                               & 0.159430865                                         & 15.94\\%                                           \\\\\n",
       "\t8 & Yes                                                 & First stage of tertiary education                   &  9412                                               & 0.225485733                                         & 22.55\\%                                           \\\\\n",
       "\t30 & No                                                  & Second stage of tertiary education                  &   180                                               & 0.016417366                                         &  1.64\\%                                           \\\\\n",
       "\t32 & Yes                                                 & Second stage of tertiary education                  &   722                                               & 0.017297142                                         &  1.73\\%                                           \\\\\n",
       "\\end{tabular}\n"
      ],
      "text/markdown": [
       "\n",
       "| <!--/--> | suskill | UNEDUC | frequencies | percent | percent1 | \n",
       "|---|---|---|---|---|---|---|---|---|---|---|---|---|---|---|---|\n",
       "| 14 | No                                                  | Missing                                             |   102                                               | 0.009303174                                         |  0.93%                                              | \n",
       "| 16 | Yes                                                 | Missing                                             |   360                                               | 0.008624614                                         |  0.86%                                              | \n",
       "| 22 | No                                                  | Pre-primary education                               |   667                                               | 0.060835462                                         |  6.08%                                              | \n",
       "| 24 | Yes                                                 | Pre-primary education                               |  2226                                               | 0.053328861                                         |  5.33%                                              | \n",
       "| 26 | No                                                  | Primary education or first stage of basic education |  1634                                               | 0.149033200                                         | 14.90%                                              | \n",
       "| 28 | Yes                                                 | Primary education or first stage of basic education |  4247                                               | 0.101746484                                         | 10.17%                                              | \n",
       "| 10 | No                                                  | Lower  secondary or second stage of basic education |  1963                                               | 0.179040496                                         | 17.90%                                              | \n",
       "| 12 | Yes                                                 | Lower  secondary or second stage of basic education |  6203                                               | 0.148606885                                         | 14.86%                                              | \n",
       "| 2 | No                                                  | (Upper) secondary education                         |  3486                                               | 0.317949653                                         | 31.79%                                              | \n",
       "| 4 | Yes                                                 | (Upper) secondary education                         | 13639                                               | 0.326753073                                         | 32.68%                                              | \n",
       "| 18 | No                                                  | Post-secondary non-tertiary education               |  1184                                               | 0.107989785                                         | 10.80%                                              | \n",
       "| 20 | Yes                                                 | Post-secondary non-tertiary education               |  4932                                               | 0.118157208                                         | 11.82%                                              | \n",
       "| 6 | No                                                  | First stage of tertiary education                   |  1748                                               | 0.159430865                                         | 15.94%                                              | \n",
       "| 8 | Yes                                                 | First stage of tertiary education                   |  9412                                               | 0.225485733                                         | 22.55%                                              | \n",
       "| 30 | No                                                  | Second stage of tertiary education                  |   180                                               | 0.016417366                                         |  1.64%                                              | \n",
       "| 32 | Yes                                                 | Second stage of tertiary education                  |   722                                               | 0.017297142                                         |  1.73%                                              | \n",
       "\n",
       "\n"
      ],
      "text/plain": [
       "   suskill UNEDUC                                              frequencies\n",
       "14 No      Missing                                               102      \n",
       "16 Yes     Missing                                               360      \n",
       "22 No      Pre-primary education                                 667      \n",
       "24 Yes     Pre-primary education                                2226      \n",
       "26 No      Primary education or first stage of basic education  1634      \n",
       "28 Yes     Primary education or first stage of basic education  4247      \n",
       "10 No      Lower  secondary or second stage of basic education  1963      \n",
       "12 Yes     Lower  secondary or second stage of basic education  6203      \n",
       "2  No      (Upper) secondary education                          3486      \n",
       "4  Yes     (Upper) secondary education                         13639      \n",
       "18 No      Post-secondary non-tertiary education                1184      \n",
       "20 Yes     Post-secondary non-tertiary education                4932      \n",
       "6  No      First stage of tertiary education                    1748      \n",
       "8  Yes     First stage of tertiary education                    9412      \n",
       "30 No      Second stage of tertiary education                    180      \n",
       "32 Yes     Second stage of tertiary education                    722      \n",
       "   percent     percent1\n",
       "14 0.009303174  0.93%  \n",
       "16 0.008624614  0.86%  \n",
       "22 0.060835462  6.08%  \n",
       "24 0.053328861  5.33%  \n",
       "26 0.149033200 14.90%  \n",
       "28 0.101746484 10.17%  \n",
       "10 0.179040496 17.90%  \n",
       "12 0.148606885 14.86%  \n",
       "2  0.317949653 31.79%  \n",
       "4  0.326753073 32.68%  \n",
       "18 0.107989785 10.80%  \n",
       "20 0.118157208 11.82%  \n",
       "6  0.159430865 15.94%  \n",
       "8  0.225485733 22.55%  \n",
       "30 0.016417366  1.64%  \n",
       "32 0.017297142  1.73%  "
      ]
     },
     "metadata": {},
     "output_type": "display_data"
    },
    {
     "name": "stdout",
     "output_type": "stream",
     "text": [
      "'data.frame':\t16 obs. of  5 variables:\n",
      " $ suskill    : Factor w/ 4 levels \"Don't know\",\"No\",..: 2 4 2 4 2 4 2 4 2 4 ...\n",
      " $ UNEDUC     : Ord.factor w/ 8 levels \"Missing\"<\"Pre-primary education\"<..: 5 5 7 7 4 4 1 1 6 6 ...\n",
      " $ frequencies: int  3486 13639 1748 9412 1963 6203 102 360 1184 4932 ...\n",
      " $ percent    : num  0.318 0.327 0.159 0.225 0.179 ...\n",
      " $ percent1   : chr  \"31.79%\" \"32.68%\" \"15.94%\" \"22.55%\" ...\n"
     ]
    }
   ],
   "source": [
    "\n",
    "# define order for factors of UNEDUC & order data frame accordingly\n",
    "df.gem.educ$UNEDUC <- ordered(df.gem.educ$UNEDUC, levels = c(\"Missing\", \"Pre-primary education\", \"Primary education or first stage of basic education\", \"Lower  secondary or second stage of basic education\", \n",
    "                                                             \"(Upper) secondary education\", \"Post-secondary non-tertiary education\", \"First stage of tertiary education\", \"Second stage of tertiary education\"))\n",
    "\n",
    "with(df.gem.educ, df.gem.educ[order(UNEDUC),])\n",
    "\n",
    "\n",
    "# show structure of variables\n",
    "str(df.gem.educ)"
   ]
  },
  {
   "cell_type": "code",
   "execution_count": 23,
   "metadata": {
    "scrolled": true
   },
   "outputs": [
    {
     "data": {},
     "metadata": {},
     "output_type": "display_data"
    },
    {
     "data": {
      "image/png": "[encoded data removed]",
      "text/plain": [
       "plot without title"
      ]
     },
     "metadata": {},
     "output_type": "display_data"
    }
   ],
   "source": [
    "ggplot(data = df.gem.educ, aes(x = suskill, y = percent, group = UNEDUC))+\n",
    "  geom_bar(stat = \"identity\", position = position_dodge(), aes(fill = suskill))+\n",
    "  geom_text(aes(label = percent1), vjust = -0.5, position = position_dodge(0.9), size = 3.5)+\n",
    "  theme_minimal()+\n",
    "  facet_grid(~UNEDUC, labeller = label_wrap_gen())+\n",
    "  labs(x = \"Highest Attained Education Level\", fill = \"Do you have the knowledge, skill & experience to start a business?\")+\n",
    "  theme(axis.text.x = element_blank(),\n",
    "        axis.ticks.x = element_blank(),\n",
    "        axis.text.y = element_blank(),\n",
    "        axis.title.y = element_blank(),\n",
    "        strip.text.x = element_text(size = 10))+\n",
    "        scale_x_discrete(position = \"top\")\n",
    "library(\"IRdisplay\")\n",
    "display_png(file=\"plot.png) "
   ]
  },
  {
   "cell_type": "markdown",
   "metadata": {},
   "source": [
    "### Entrepreneurship Education in the EU\n",
    "\n",
    "Next we look at entrepreneurship education in the EU - we compare the share of people having received training in starting a business over countries. The aim is to create an overview map that enables an easy comparison through colour coding.\n",
    "\n",
    "Therfore we make use of the built in R- worldmap which we subset to EU-member states.\n"
   ]
  },
  {
   "cell_type": "code",
   "execution_count": 26,
   "metadata": {},
   "outputs": [
    {
     "name": "stderr",
     "output_type": "stream",
     "text": [
      "Warning message:\n",
      "\"package 'bindrcpp' was built under R version 3.4.4\""
     ]
    }
   ],
   "source": [
    "worldMap <- getMap()\n",
    "\n",
    "# Member States of the European Union\n",
    "europeanUnion <- c(\"Austria\",\"Belgium\",\"Bulgaria\",\"Croatia\",\"Cyprus\",\n",
    "                   \"Czech Rep.\",\"Denmark\",\"Estonia\",\"Finland\",\"France\",\n",
    "                   \"Germany\",\"Greece\",\"Hungary\",\"Ireland\",\"Italy\",\"Latvia\",\n",
    "                   \"Lithuania\",\"Luxembourg\",\"Malta\",\"Netherlands\",\"Poland\",\n",
    "                   \"Portugal\",\"Romania\",\"Slovakia\",\"Slovenia\",\"Spain\",\n",
    "                   \"Sweden\",\"United Kingdom\")\n",
    "\n",
    "# Select only the index of states member of the E.U.\n",
    "indEU <- which(worldMap$NAME%in%europeanUnion)\n",
    "\n",
    "df.gem.EU <- filter(df.gem, country%in%europeanUnion)"
   ]
  },
  {
   "cell_type": "markdown",
   "metadata": {},
   "source": [
    "Then we delete the entries which don't contain any information on either one of the analysed variables (**_ytransc_**, **_ytranlf_**).\n",
    "\n",
    "_Note: It is not declared in the Metadata how this empty entries came to be. From these 156 observations, 3 are from the Netherlands and the remaining 153 from Belgium. Again, leaving this observations out can bring about a bias._"
   ]
  },
  {
   "cell_type": "code",
   "execution_count": 34,
   "metadata": {},
   "outputs": [],
   "source": [
    "\n",
    "# delete empty entries\n",
    "\n",
    "df.gem.EU.2 <- filter(df.gem.EU, ytransc != \" \" & ytranlf != \" \")\n"
   ]
  },
  {
   "cell_type": "markdown",
   "metadata": {},
   "source": [
    "Next the border coordinates of the EU states are extracted."
   ]
  },
  {
   "cell_type": "code",
   "execution_count": 29,
   "metadata": {},
   "outputs": [],
   "source": [
    "# Extract longitude and latitude border's coordinates of members states of E.U. \n",
    "europeCoords <- lapply(indEU, function(i){\n",
    "  df <- data.frame(worldMap@polygons[[i]]@Polygons[[1]]@coords)\n",
    "  df$region =as.character(worldMap$NAME[i])\n",
    "  colnames(df) <- list(\"long\", \"lat\", \"region\")\n",
    "  return(df)\n",
    "})\n",
    "\n",
    "europeCoords <- do.call(\"rbind\", europeCoords)\n"
   ]
  },
  {
   "cell_type": "markdown",
   "metadata": {},
   "source": [
    "Then we create a contingency table looking at the numbers concerning entrepreneurship education in primary or secondary school (**_ytransc_**) and after schooling (**_ytranlf_**). This information is used to compile a new variable **_starteduc_** containing a 1 or 2 for people who "
   ]
  },
  {
   "cell_type": "code",
   "execution_count": 35,
   "metadata": {},
   "outputs": [
    {
     "data": {
      "text/plain": [
       "            \n",
       "                   Don't Know    No Refused   Yes\n",
       "                 0          0     0       0     0\n",
       "  Don't Know     0         86   186       1    62\n",
       "  No             0         74 54048      21 10841\n",
       "  Refused        0          2     3      33     2\n",
       "  Yes            0         27  4917       8  4672"
      ]
     },
     "metadata": {},
     "output_type": "display_data"
    }
   ],
   "source": [
    "  \n",
    "# look how many people have taken part in training on starting a business in primary/secondary or grad school\n",
    "tab3 <- table(df.gem.EU.2$ytransc, df.gem.EU.2$ytranlf)\n",
    "tab3\n",
    "\n",
    "# add a column that contains a 1 / 2 if the person has taken part in training on starting a business\n",
    "\n",
    "df.gem.EU.2$starteduc <- ifelse (df.gem.EU.2$ytransc == 'Yes', 1, 0)\n",
    "df.gem.EU.2$starteduc <- ifelse (df.gem.EU.2$ytranlf == 'Yes', df.gem.EU.2$starteduc+1, df.gem.EU.2$starteduc)\n",
    "\n",
    "# get contingency table of country and starteduc\n",
    "\n",
    "tab4 <- table(df.gem.EU.2$country, df.gem.EU.2$starteduc) \n",
    "tab4\n",
    "df.starteduc <- as.data.frame.matrix(tab4)\n",
    "colnames(df.starteduc) <- c(\"no.educ\", \"educ_onetype\", \"educ_twotype\")\n",
    "\n",
    "# add variables with row sums and percentage of people having attaneded entrepreneurial education\n",
    "df.starteduc$sum <- rowSums(df.starteduc)\n",
    "df.starteduc$percent <- (df.starteduc$educ_onetype + df.starteduc$educ_twotype)/df.starteduc$sum\n",
    "\n",
    "# delete all non EU countries\n",
    "df.starteduc <- df.starteduc[which(rownames(df.starteduc) %in% europeanUnion), ]\n",
    "\n",
    "# add column with rownames\n",
    "df.starteduc$country <- rownames(df.starteduc)\n"
   ]
  },
  {
   "cell_type": "markdown",
   "metadata": {},
   "source": [
    "We check if there are EU-countries which are not included in the GEM data set. This is the case - Bulgaria, Cyprus, Czech Republic, Latvia and Malta are not included. These countries will be marked grey in the map.\n",
    "\n",
    "The share of people who received entrepreneurship education is added as an additional variable to the Polygon Data Frame."
   ]
  },
  {
   "cell_type": "code",
   "execution_count": 36,
   "metadata": {},
   "outputs": [
    {
     "data": {
      "text/html": [
       "<ol class=list-inline>\n",
       "\t<li>'Bulgaria'</li>\n",
       "\t<li>'Cyprus'</li>\n",
       "\t<li>'Czech Rep.'</li>\n",
       "\t<li>'Latvia'</li>\n",
       "\t<li>'Malta'</li>\n",
       "</ol>\n"
      ],
      "text/latex": [
       "\\begin{enumerate*}\n",
       "\\item 'Bulgaria'\n",
       "\\item 'Cyprus'\n",
       "\\item 'Czech Rep.'\n",
       "\\item 'Latvia'\n",
       "\\item 'Malta'\n",
       "\\end{enumerate*}\n"
      ],
      "text/markdown": [
       "1. 'Bulgaria'\n",
       "2. 'Cyprus'\n",
       "3. 'Czech Rep.'\n",
       "4. 'Latvia'\n",
       "5. 'Malta'\n",
       "\n",
       "\n"
      ],
      "text/plain": [
       "[1] \"Bulgaria\"   \"Cyprus\"     \"Czech Rep.\" \"Latvia\"     \"Malta\"     "
      ]
     },
     "metadata": {},
     "output_type": "display_data"
    }
   ],
   "source": [
    "# check whether there is data for all EU countries\n",
    "setdiff(europeanUnion, rownames(df.starteduc))\n",
    "\n",
    "# add values to map\n",
    "europeCoords$value <- df.starteduc$percent[match(europeCoords$region, df.starteduc$country)]"
   ]
  },
  {
   "cell_type": "markdown",
   "metadata": {},
   "source": [
    "The map shows the percentage of people in the sample who have received training on starting a business for each country. Belgium has the highest rate (43.37%) while Greece has the lowest rate (12.7%).\n",
    "\n",
    "_Note: Most of the code for this graphic has been taken from [here](http://egallic.fr/european-map-using-r/)._"
   ]
  },
  {
   "cell_type": "code",
   "execution_count": 42,
   "metadata": {},
   "outputs": [
    {
     "data": {},
     "metadata": {},
     "output_type": "display_data"
    },
    {
     "data": {
      "image/png": "[encoded data removed]",
      "text/plain": [
       "plot without title"
      ]
     },
     "metadata": {},
     "output_type": "display_data"
    }
   ],
   "source": [
    "# Plot the map\n",
    "P <- ggplot() + geom_polygon(data = europeCoords, aes(x = long, y = lat, group = region, fill = value),\n",
    "                             colour = \"black\", size = 0.1) +\n",
    "  coord_map(xlim = c(-13, 35),  ylim = c(32, 71))\n",
    "\n",
    "P <- P + scale_fill_gradient(name = \"Startup Education Rate\", low = \"#FFFF00\", high = \"#0B6121\", na.value = \"grey50\")\n",
    "\n",
    "P <- P + theme(\n",
    "  axis.text.x = element_blank(),\n",
    "  axis.text.y = element_blank(), axis.ticks.x = element_blank(),\n",
    "  axis.ticks.y = element_blank(), axis.title = element_blank(),\n",
    "  plot.margin = unit(0 * c(-1.5, -1.5, -1.5, -1.5), \"lines\"))\n",
    "P\n"
   ]
  }
 ],
 "metadata": {
  "kernelspec": {
   "display_name": "R",
   "language": "R",
   "name": "ir"
  },
  "language_info": {
   "codemirror_mode": "r",
   "file_extension": ".r",
   "mimetype": "text/x-r-source",
   "name": "R",
   "pygments_lexer": "r",
   "version": "3.4.3"
  }
 },
 "nbformat": 4,
 "nbformat_minor": 2
}
